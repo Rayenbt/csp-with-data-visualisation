{
 "cells": [
  {
   "cell_type": "code",
   "execution_count": 1,
   "id": "e32d3663-ca34-4365-8002-d6ea01df0918",
   "metadata": {},
   "outputs": [],
   "source": [
    "## imported library and initialised the problem\n",
    "from constraint import Problem\n",
    "problem = Problem()"
   ]
  },
  {
   "cell_type": "code",
   "execution_count": 2,
   "id": "425c6a60-d627-4ccc-b19e-9642780a0a91",
   "metadata": {},
   "outputs": [],
   "source": [
    "## added my variables and domains in combinations to avoid redundancy\n",
    "## example: Ciara Peter Jane is the same as Ciara Jane Peter so that's why I forced these combinations to avoid repeated solutions\n",
    "## so here my first variable is python, the domain is the possible combinations for python developers (4 persons and 3 roles, whi)\n",
    "problem.addVariable(\"Python\", [\n",
    "    [\"Ciara\", \"Peter\", \"Jane\"],  \n",
    "    [\"Ciara\", \"Peter\", \"Bruce\"],  \n",
    "    [\"Ciara\", \"Jane\", \"Bruce\"],  \n",
    "    [\"Peter\", \"Jane\", \"Bruce\"],  \n",
    "])\n",
    "\n",
    "problem.addVariable(\"AI\", [\n",
    "    [\"Peter\", \"Juan\"],  \n",
    "    [\"Peter\", \"Jim\"],\n",
    "    [\"Peter\", \"Maria\"], \n",
    "    [\"Peter\", \"Anita\"],  \n",
    "    [\"Juan\", \"Jim\"],    \n",
    "    [\"Juan\", \"Anita\"],\n",
    "    [\"Juan\", \"Maria\"],\n",
    "    [\"Jim\", \"Anita\"],\n",
    "    [\"Jim\", \"Maria\"],\n",
    "    [\"Anita\", \"Maria\"],\n",
    "])\n",
    "\n",
    "problem.addVariable(\"Web\", [\n",
    "    [\"Juan\"],  \n",
    "    [\"Mary\"],   \n",
    "    [\"Anita\"],   \n",
    "])\n",
    "problem.addVariable(\"Database\", [\n",
    "    [\"Jim\"],  \n",
    "    [\"Jame\"],   \n",
    "])\n",
    "\n",
    "problem.addVariable(\"Systems\", [\n",
    "    [\"Juan\"],  \n",
    "    [\"Jim\"],  \n",
    "    [\"Mary\"],   \n",
    "    [\"Bruce\"],   \n",
    "])"
   ]
  },
  {
   "cell_type": "code",
   "execution_count": null,
   "id": "13f00d5a-9832-418a-9bf8-1cb7c2e69546",
   "metadata": {},
   "outputs": [],
   "source": []
  }
 ],
 "metadata": {
  "kernelspec": {
   "display_name": "Python 3 (ipykernel)",
   "language": "python",
   "name": "python3"
  },
  "language_info": {
   "codemirror_mode": {
    "name": "ipython",
    "version": 3
   },
   "file_extension": ".py",
   "mimetype": "text/x-python",
   "name": "python",
   "nbconvert_exporter": "python",
   "pygments_lexer": "ipython3",
   "version": "3.11.9"
  }
 },
 "nbformat": 4,
 "nbformat_minor": 5
}
