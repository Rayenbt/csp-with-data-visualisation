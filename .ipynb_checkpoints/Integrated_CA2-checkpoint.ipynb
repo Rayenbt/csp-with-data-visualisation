{
 "cells": [
  {
   "cell_type": "code",
   "execution_count": 1,
   "id": "e32d3663-ca34-4365-8002-d6ea01df0918",
   "metadata": {},
   "outputs": [],
   "source": [
    "## imported library and initialised the problem\n",
    "import constraint\n",
    "problem = constraint.Problem()"
   ]
  },
  {
   "cell_type": "code",
   "execution_count": 2,
   "id": "425c6a60-d627-4ccc-b19e-9642780a0a91",
   "metadata": {},
   "outputs": [],
   "source": [
    "## added my variables and domains in combinations to avoid redundancy\n",
    "## example: Ciara Peter Jane is the same as Ciara Jane Peter so that's why I forced these combinations to avoid repeated solutions\n",
    "## so here my first variable is python, the domain is the possible combinations for python developers (4 persons and 3 roles, whi)\n",
    "problem.addVariable(\"Python\", [\n",
    "    [\"Ciara\", \"Peter\", \"Jane\"],  \n",
    "    [\"Ciara\", \"Peter\", \"Bruce\"],  \n",
    "    [\"Ciara\", \"Jane\", \"Bruce\"],  \n",
    "    [\"Peter\", \"Jane\", \"Bruce\"],  \n",
    "])\n",
    "\n",
    "problem.addVariable(\"AI\", [\n",
    "    [\"Peter\", \"Juan\"],  \n",
    "    [\"Peter\", \"Jim\"],\n",
    "    [\"Peter\", \"Maria\"], \n",
    "    [\"Peter\", \"Anita\"],  \n",
    "    [\"Juan\", \"Jim\"],    \n",
    "    [\"Juan\", \"Anita\"],\n",
    "    [\"Juan\", \"Maria\"],\n",
    "    [\"Jim\", \"Anita\"],\n",
    "    [\"Jim\", \"Maria\"],\n",
    "    [\"Anita\", \"Maria\"],\n",
    "])\n",
    "\n",
    "problem.addVariable(\"Web\", [\n",
    "    [\"Juan\"],  \n",
    "    [\"Mary\"],   \n",
    "    [\"Anita\"],   \n",
    "])\n",
    "problem.addVariable(\"Database\", [\n",
    "    [\"Jim\"],  \n",
    "    [\"Jane\"],   \n",
    "])\n",
    "\n",
    "problem.addVariable(\"Systems\", [\n",
    "    [\"Juan\"],  \n",
    "    [\"Jim\"],  \n",
    "    [\"Mary\"],   \n",
    "    [\"Bruce\"],   \n",
    "])\n"
   ]
  },
  {
   "cell_type": "code",
   "execution_count": 3,
   "id": "13f00d5a-9832-418a-9bf8-1cb7c2e69546",
   "metadata": {},
   "outputs": [],
   "source": [
    "### First constraint: Each employee can only have maximum of two roles\n",
    "def max_two_roles(Python, AI, Web, Database, Systems):\n",
    "    teams= [Python, AI, Web, Database, Systems]\n",
    "    employee_counts = {}\n",
    "    ## we iterate through every team, then through every potential employee, and we check how many 'occurences' and we add 1 if it's existing, if not we make it 1    for team in [Python, AI, Web, Database, Systems]:\n",
    "    for team in teams:\n",
    "        for employee in team:\n",
    "            if employee in employee_counts:\n",
    "                employee_counts[employee] += 1\n",
    "            else:\n",
    "                employee_counts[employee] = 1\n",
    "\n",
    "## return True only if all employees counts are less than or equal to 2 \n",
    "    return max(employee_counts.values()) <= 2\n",
    "\n",
    "problem.addConstraint(max_two_roles,[\"Python\", \"AI\", \"Web\", \"Database\", \"Systems\"])\n"
   ]
  },
  {
   "cell_type": "code",
   "execution_count": 4,
   "id": "7592d0a8-316f-4db3-aea8-c73b35127b3c",
   "metadata": {},
   "outputs": [],
   "source": [
    "### Second constraint: we can only hire a maximum 4 people (excluding Ciara if she's hired)\n",
    "def max_hired(Python, AI, Web, Database, Systems):\n",
    "    teams= [Python, AI, Web, Database, Systems]\n",
    "    unique_employees = set()\n",
    "    for team in [Python, AI, Web, Database, Systems]:\n",
    "        unique_employees.update(team)\n",
    "    ## If ciara is hired, we remove here from the list\n",
    "    if 'Ciara' in unique_employees:\n",
    "        unique_employees.remove('Ciara')\n",
    "    ## number of unique employees has to be less than or equal to 4 \n",
    "    return len(unique_employees) <=4\n",
    "    \n",
    "problem.addConstraint(max_hired,[\"Python\", \"AI\", \"Web\", \"Database\", \"Systems\"])\n"
   ]
  },
  {
   "cell_type": "code",
   "execution_count": null,
   "id": "601005d4-3754-4c92-add5-ca40d5aecca6",
   "metadata": {},
   "outputs": [],
   "source": []
  }
 ],
 "metadata": {
  "kernelspec": {
   "display_name": "Python 3 (ipykernel)",
   "language": "python",
   "name": "python3"
  },
  "language_info": {
   "codemirror_mode": {
    "name": "ipython",
    "version": 3
   },
   "file_extension": ".py",
   "mimetype": "text/x-python",
   "name": "python",
   "nbconvert_exporter": "python",
   "pygments_lexer": "ipython3",
   "version": "3.11.9"
  }
 },
 "nbformat": 4,
 "nbformat_minor": 5
}
